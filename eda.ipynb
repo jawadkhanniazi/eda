{
 "cells": [
  {
   "cell_type": "code",
   "execution_count": null,
   "metadata": {},
   "outputs": [],
   "source": [
    "#import the useful libraries.\n",
    "import numpy as np\n",
    "import pandas as pd\n",
    "import seaborn as sns\n",
    "import matplotlib.pyplot as plt\n",
    "%matplotlib inline\n",
    "\n",
    "# Read the data set of \"Marketing Analysis\" in data.\n",
    "data= pd.read_csv(\"marketing_analysis.csv\")\n",
    "\n",
    "# Printing the data\n",
    "data"
   ]
  },
  {
   "cell_type": "code",
   "execution_count": null,
   "metadata": {},
   "outputs": [],
   "source": [
    "\n",
    "#import the useful libraries.\n",
    "import numpy as np\n",
    "import pandas as pd\n",
    "import seaborn as sns\n",
    "import matplotlib.pyplot as plt\n",
    "%matplotlib inline\n",
    "\n",
    "# Read the file in data without first two rows as it is of no use.\n",
    "data = pd.read_csv(\"marketing_analysis.csv\",skiprows = 2)\n",
    "\n",
    "#print the head of the data frame.\n",
    "data.head()"
   ]
  },
  {
   "cell_type": "code",
   "execution_count": null,
   "metadata": {},
   "outputs": [],
   "source": [
    "# Drop the customer id as it is of no use.\n",
    "data.drop('customerid', axis = 1, inplace = True)\n",
    "\n",
    "#Extract job  & Education in newly from \"jobedu\" column.\n",
    "data['job']= data[\"jobedu\"].apply(lambda x: x.split(\",\")[0])\n",
    "data['education']= data[\"jobedu\"].apply(lambda x: x.split(\",\")[1])\n",
    "\n",
    "# Drop the \"jobedu\" column from the dataframe.\n",
    "data.drop('jobedu', axis = 1, inplace = True)\n",
    "\n",
    "# Printing the Dataset\n",
    "data"
   ]
  },
  {
   "cell_type": "code",
   "execution_count": null,
   "metadata": {},
   "outputs": [],
   "source": [
    "# Checking the missing values\n",
    "data.isnull().sum()"
   ]
  },
  {
   "cell_type": "code",
   "execution_count": null,
   "metadata": {},
   "outputs": [],
   "source": [
    "\n",
    "# Dropping the records with age missing in data dataframe.\n",
    "data = data[~data.age.isnull()].copy()\n",
    "\n",
    "# Checking the missing values in the dataset.\n",
    "data.isnull().sum()"
   ]
  },
  {
   "cell_type": "code",
   "execution_count": null,
   "metadata": {},
   "outputs": [],
   "source": [
    "\n",
    "# Find the mode of month in data\n",
    "month_mode = data.month.mode()[0]\n",
    "\n",
    "# Fill the missing values with mode value of month in data.\n",
    "data.month.fillna(month_mode, inplace = True)\n",
    "\n",
    "# Let's see the null values in the month column.\n",
    "data.month.isnull().sum()"
   ]
  },
  {
   "cell_type": "code",
   "execution_count": null,
   "metadata": {},
   "outputs": [],
   "source": [
    "#drop the records with response missing in data.\n",
    "data = data[~data.response.isnull()].copy()\n",
    "# Calculate the missing values in each column of data frame\n",
    "data.isnull().sum()"
   ]
  },
  {
   "cell_type": "code",
   "execution_count": null,
   "metadata": {},
   "outputs": [],
   "source": [
    "\n",
    "# Let's calculate the percentage of each job status category.\n",
    "data.job.value_counts(normalize=True)\n",
    "\n",
    "#plot the bar graph of percentage job categories\n",
    "data.job.value_counts(normalize=True).plot.barh()\n",
    "plt.show()"
   ]
  },
  {
   "cell_type": "code",
   "execution_count": null,
   "metadata": {},
   "outputs": [],
   "source": [
    "#calculate the percentage of each education category.\n",
    "data.education.value_counts(normalize=True)\n",
    "\n",
    "#plot the pie chart of education categories\n",
    "data.education.value_counts(normalize=True).plot.pie()\n",
    "plt.show()"
   ]
  },
  {
   "cell_type": "code",
   "execution_count": null,
   "metadata": {},
   "outputs": [],
   "source": [
    "data.salary.describe()"
   ]
  },
  {
   "cell_type": "code",
   "execution_count": null,
   "metadata": {},
   "outputs": [],
   "source": [
    "\n",
    "#plot the scatter plot of balance and salary variable in data\n",
    "plt.scatter(data.salary,data.balance)\n",
    "plt.show()\n",
    "\n",
    "#plot the scatter plot of balance and age variable in data\n",
    "data.plot.scatter(x=\"age\",y=\"balance\")\n",
    "plt.show()"
   ]
  },
  {
   "cell_type": "code",
   "execution_count": null,
   "metadata": {},
   "outputs": [],
   "source": [
    "#plot the pair plot of salary, balance and age in data dataframe.\n",
    "sns.pairplot(data = data, vars=['salary','balance','age'])\n",
    "plt.show()"
   ]
  },
  {
   "cell_type": "code",
   "execution_count": null,
   "metadata": {},
   "outputs": [],
   "source": [
    "\n",
    "# Creating a matrix using age, salry, balance as rows and columns\n",
    "data[['age','salary','balance']].corr()\n",
    "\n",
    "#plot the correlation matrix of salary, balance and age in data dataframe.\n",
    "sns.heatmap(data[['age','salary','balance']].corr(), annot=True, cmap = 'Reds')\n",
    "plt.show()"
   ]
  },
  {
   "cell_type": "code",
   "execution_count": null,
   "metadata": {},
   "outputs": [],
   "source": [
    "#groupby the response to find the mean of the salary with response no & yes separately.\n",
    "data.groupby('response')['salary'].mean()"
   ]
  },
  {
   "cell_type": "code",
   "execution_count": null,
   "metadata": {},
   "outputs": [],
   "source": [
    "#groupby the response to find the median of the salary with response no & yes separately.\n",
    "data.groupby('response')['salary'].median()"
   ]
  },
  {
   "cell_type": "code",
   "execution_count": null,
   "metadata": {},
   "outputs": [],
   "source": [
    "\n",
    "#create response_rate of numerical data type where response \"yes\"= 1, \"no\"= 0\n",
    "data['response_rate'] = np.where(data.response=='yes',1,0)\n",
    "data.response_rate.value_counts()"
   ]
  },
  {
   "cell_type": "code",
   "execution_count": null,
   "metadata": {},
   "outputs": [],
   "source": [
    "#plot the bar graph of marital status with average value of response_rate\n",
    "data.groupby('marital')['response_rate'].mean().plot.bar()\n",
    "plt.show()"
   ]
  },
  {
   "cell_type": "code",
   "execution_count": null,
   "metadata": {},
   "outputs": [],
   "source": [
    "result = pd.pivot_table(data=data, index='education', columns='marital',values='response_rate')\n",
    "print(result)\n",
    "\n",
    "#create heat map of education vs marital vs response_rate\n",
    "sns.heatmap(result, annot=True, cmap = 'RdYlGn', center=0.117)\n",
    "plt.show()"
   ]
  },
  {
   "cell_type": "code",
   "execution_count": 1,
   "metadata": {},
   "outputs": [
    {
     "name": "stdout",
     "output_type": "stream",
     "text": [
      "Desktop    Downloads  examples.desktop\tPictures  Templates\r\n",
      "Documents  eda.ipynb  Music\t\tPublic\t  Videos\r\n"
     ]
    }
   ],
   "source": [
    "!dir\n"
   ]
  },
  {
   "cell_type": "code",
   "execution_count": null,
   "metadata": {},
   "outputs": [],
   "source": []
  }
 ],
 "metadata": {
  "kernelspec": {
   "display_name": "Python 3",
   "language": "python",
   "name": "python3"
  },
  "language_info": {
   "codemirror_mode": {
    "name": "ipython",
    "version": 3
   },
   "file_extension": ".py",
   "mimetype": "text/x-python",
   "name": "python",
   "nbconvert_exporter": "python",
   "pygments_lexer": "ipython3",
   "version": "3.6.9"
  }
 },
 "nbformat": 4,
 "nbformat_minor": 2
}
